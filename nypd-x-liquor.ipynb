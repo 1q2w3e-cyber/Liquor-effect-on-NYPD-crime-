{
 "cells": [
  {
   "cell_type": "code",
   "execution_count": 1,
   "id": "9cdd0d28",
   "metadata": {
    "execution": {
     "iopub.execute_input": "2022-09-07T13:24:19.139547Z",
     "iopub.status.busy": "2022-09-07T13:24:19.138919Z",
     "iopub.status.idle": "2022-09-07T13:24:20.018117Z",
     "shell.execute_reply": "2022-09-07T13:24:20.017131Z"
    },
    "papermill": {
     "duration": 0.891776,
     "end_time": "2022-09-07T13:24:20.022281",
     "exception": false,
     "start_time": "2022-09-07T13:24:19.130505",
     "status": "completed"
    },
    "tags": []
   },
   "outputs": [],
   "source": [
    "from scipy import stats\n",
    "import pandas as pd\n",
    "import numpy as np\n",
    "import math\n",
    "import json\n",
    "from tqdm import tqdm\n",
    "from datetime import datetime, timedelta\n",
    "import matplotlib.pyplot as plt"
   ]
  },
  {
   "cell_type": "code",
   "execution_count": 2,
   "id": "901cf529",
   "metadata": {
    "execution": {
     "iopub.execute_input": "2022-09-07T13:24:20.032178Z",
     "iopub.status.busy": "2022-09-07T13:24:20.031509Z",
     "iopub.status.idle": "2022-09-07T13:24:20.038090Z",
     "shell.execute_reply": "2022-09-07T13:24:20.037105Z"
    },
    "papermill": {
     "duration": 0.014175,
     "end_time": "2022-09-07T13:24:20.040540",
     "exception": false,
     "start_time": "2022-09-07T13:24:20.026365",
     "status": "completed"
    },
    "tags": []
   },
   "outputs": [],
   "source": [
    "def crime_clean_data(df):\n",
    "    df['CMPLNT_FR_DT'] = pd.to_datetime(df['CMPLNT_FR_DT'], errors='coerce')\n",
    "    return df[(df['CMPLNT_FR_DT'] > '2017-01-01 00:00:00') & (df['CMPLNT_FR_DT'] < '2018-01-01 00:00:00') & ~df['CMPLNT_FR_DT'].isnull() & ~np.isnan(df.Latitude)]\n"
   ]
  },
  {
   "cell_type": "code",
   "execution_count": 3,
   "id": "6cc96ecf",
   "metadata": {
    "execution": {
     "iopub.execute_input": "2022-09-07T13:24:20.050035Z",
     "iopub.status.busy": "2022-09-07T13:24:20.049338Z",
     "iopub.status.idle": "2022-09-07T13:24:20.056517Z",
     "shell.execute_reply": "2022-09-07T13:24:20.055506Z"
    },
    "papermill": {
     "duration": 0.014814,
     "end_time": "2022-09-07T13:24:20.059051",
     "exception": false,
     "start_time": "2022-09-07T13:24:20.044237",
     "status": "completed"
    },
    "tags": []
   },
   "outputs": [],
   "source": [
    "def liquor_clean_data(df):\n",
    "    df['License Effective Date'] = pd.to_datetime(df['License Effective Date'], errors='coerce')\n",
    "    return df[(df['License Effective Date'] > '2017-01-01 00:00:00') & \\\n",
    "              (df['License Effective Date'] < '2018-01-01 00:00:00') & (~df['License Effective Date'].isnull()) & \\\n",
    "              (df['Agency Zone Office Name'] == 'New York City') & (~np.isnan(df.Latitude)) & \\\n",
    "              (df['License Type Name'].str.contains('ON-PREMISES LIQUOR'))]"
   ]
  },
  {
   "cell_type": "code",
   "execution_count": 4,
   "id": "02b46d66",
   "metadata": {
    "execution": {
     "iopub.execute_input": "2022-09-07T13:24:20.068293Z",
     "iopub.status.busy": "2022-09-07T13:24:20.067197Z",
     "iopub.status.idle": "2022-09-07T13:24:20.074191Z",
     "shell.execute_reply": "2022-09-07T13:24:20.073189Z"
    },
    "papermill": {
     "duration": 0.014049,
     "end_time": "2022-09-07T13:24:20.076749",
     "exception": false,
     "start_time": "2022-09-07T13:24:20.062700",
     "status": "completed"
    },
    "tags": []
   },
   "outputs": [],
   "source": [
    "def get_within_km(loc, df):\n",
    "    lat_limits, lng_limits = bounds_within_km(loc)\n",
    "    return df[(df['Latitude'] < lat_limits[1]) & (df['Latitude'] > lat_limits[0]) & \\\n",
    "              (df['Longitude'] < lng_limits[1]) & (df['Longitude'] > lng_limits[0])]"
   ]
  },
  {
   "cell_type": "code",
   "execution_count": 5,
   "id": "24cda075",
   "metadata": {
    "execution": {
     "iopub.execute_input": "2022-09-07T13:24:20.085713Z",
     "iopub.status.busy": "2022-09-07T13:24:20.085321Z",
     "iopub.status.idle": "2022-09-07T13:24:20.092442Z",
     "shell.execute_reply": "2022-09-07T13:24:20.091070Z"
    },
    "papermill": {
     "duration": 0.014373,
     "end_time": "2022-09-07T13:24:20.094813",
     "exception": false,
     "start_time": "2022-09-07T13:24:20.080440",
     "status": "completed"
    },
    "tags": []
   },
   "outputs": [],
   "source": [
    "def bounds_within_km(loc):\n",
    "    dist = 1.6 # 1km\n",
    "    radius = 6371 # Earth Radius in km\n",
    "    lat = loc[0]\n",
    "    lng = loc[1]\n",
    "    max_lat = lat + np.rad2deg(dist/float(radius))\n",
    "    min_lat = lat - np.rad2deg(dist/float(radius))\n",
    "    max_lng = lng + np.rad2deg(dist/float(radius)/math.cos(np.deg2rad(lat)))\n",
    "    min_lng = lng - np.rad2deg(dist/float(radius)/math.cos(np.deg2rad(lat)))\n",
    "    \n",
    "    return (min_lat, max_lat), (min_lng, max_lng)"
   ]
  },
  {
   "cell_type": "code",
   "execution_count": 6,
   "id": "02e1619c",
   "metadata": {
    "execution": {
     "iopub.execute_input": "2022-09-07T13:24:20.103730Z",
     "iopub.status.busy": "2022-09-07T13:24:20.103332Z",
     "iopub.status.idle": "2022-09-07T13:25:35.835620Z",
     "shell.execute_reply": "2022-09-07T13:25:35.833828Z"
    },
    "papermill": {
     "duration": 75.74051,
     "end_time": "2022-09-07T13:25:35.838886",
     "exception": false,
     "start_time": "2022-09-07T13:24:20.098376",
     "status": "completed"
    },
    "tags": []
   },
   "outputs": [
    {
     "name": "stderr",
     "output_type": "stream",
     "text": [
      "/opt/conda/lib/python3.7/site-packages/IPython/core/interactiveshell.py:3552: DtypeWarning: Columns (18,20) have mixed types.Specify dtype option on import or set low_memory=False.\n",
      "  exec(code_obj, self.user_global_ns, self.user_ns)\n"
     ]
    }
   ],
   "source": [
    "crime_df = pd.read_csv(\"../input/nypd-complaint-data-historic-20062019/NYPD_Complaint_Data_Historic.csv\")\n",
    "crime_df= crime_clean_data(crime_df)"
   ]
  },
  {
   "cell_type": "code",
   "execution_count": 7,
   "id": "fbb525fe",
   "metadata": {
    "execution": {
     "iopub.execute_input": "2022-09-07T13:25:35.848765Z",
     "iopub.status.busy": "2022-09-07T13:25:35.848288Z",
     "iopub.status.idle": "2022-09-07T13:25:36.999258Z",
     "shell.execute_reply": "2022-09-07T13:25:36.997741Z"
    },
    "papermill": {
     "duration": 1.159514,
     "end_time": "2022-09-07T13:25:37.002305",
     "exception": false,
     "start_time": "2022-09-07T13:25:35.842791",
     "status": "completed"
    },
    "tags": []
   },
   "outputs": [
    {
     "name": "stdout",
     "output_type": "stream",
     "text": [
      "CMPLNT_NUM           466190\n",
      "CMPLNT_FR_DT         466190\n",
      "CMPLNT_FR_TM         466190\n",
      "CMPLNT_TO_DT         393521\n",
      "CMPLNT_TO_TM         393722\n",
      "ADDR_PCT_CD          466190\n",
      "RPT_DT               466190\n",
      "KY_CD                466190\n",
      "OFNS_DESC            466166\n",
      "PD_CD                465915\n",
      "PD_DESC              465915\n",
      "CRM_ATPT_CPTD_CD     466190\n",
      "LAW_CAT_CD           466190\n",
      "BORO_NM              465912\n",
      "LOC_OF_OCCUR_DESC    375905\n",
      "PREM_TYP_DESC        464379\n",
      "JURIS_DESC           466190\n",
      "JURISDICTION_CODE    465915\n",
      "PARKS_NM               4112\n",
      "HADEVELOPT            24154\n",
      "HOUSING_PSA           37336\n",
      "X_COORD_CD           466190\n",
      "Y_COORD_CD           466190\n",
      "SUSP_AGE_GROUP       343663\n",
      "SUSP_RACE            343663\n",
      "SUSP_SEX             343663\n",
      "TRANSIT_DISTRICT      12072\n",
      "Latitude             466190\n",
      "Longitude            466190\n",
      "Lat_Lon              466190\n",
      "PATROL_BORO          465915\n",
      "STATION_NAME          12072\n",
      "VIC_AGE_GROUP        466189\n",
      "VIC_RACE             466189\n",
      "VIC_SEX              466189\n",
      "dtype: int64\n"
     ]
    }
   ],
   "source": [
    "print(crime_df.count())\n",
    "liquor_df = pd.read_csv(\"../input/liquor-license-dataset/liquor.csv\",delimiter=',', low_memory=False)\n",
    "liquor_df= liquor_clean_data(liquor_df)"
   ]
  },
  {
   "cell_type": "code",
   "execution_count": 8,
   "id": "01995f15",
   "metadata": {
    "execution": {
     "iopub.execute_input": "2022-09-07T13:25:37.012087Z",
     "iopub.status.busy": "2022-09-07T13:25:37.011672Z",
     "iopub.status.idle": "2022-09-07T13:25:37.051036Z",
     "shell.execute_reply": "2022-09-07T13:25:37.050024Z"
    },
    "papermill": {
     "duration": 0.047206,
     "end_time": "2022-09-07T13:25:37.053512",
     "exception": false,
     "start_time": "2022-09-07T13:25:37.006306",
     "status": "completed"
    },
    "tags": []
   },
   "outputs": [
    {
     "data": {
      "text/html": [
       "<div>\n",
       "<style scoped>\n",
       "    .dataframe tbody tr th:only-of-type {\n",
       "        vertical-align: middle;\n",
       "    }\n",
       "\n",
       "    .dataframe tbody tr th {\n",
       "        vertical-align: top;\n",
       "    }\n",
       "\n",
       "    .dataframe thead th {\n",
       "        text-align: right;\n",
       "    }\n",
       "</style>\n",
       "<table border=\"1\" class=\"dataframe\">\n",
       "  <thead>\n",
       "    <tr style=\"text-align: right;\">\n",
       "      <th></th>\n",
       "      <th>License Serial Number</th>\n",
       "      <th>License Type Name</th>\n",
       "      <th>License Class Code</th>\n",
       "      <th>License Type Code</th>\n",
       "      <th>Agency Zone Office Name</th>\n",
       "      <th>Agency Zone Office Number</th>\n",
       "      <th>County Name (Licensee)</th>\n",
       "      <th>Premises Name</th>\n",
       "      <th>Doing Business As (DBA)</th>\n",
       "      <th>Actual Address of Premises (Address1)</th>\n",
       "      <th>...</th>\n",
       "      <th>City</th>\n",
       "      <th>State</th>\n",
       "      <th>Zip</th>\n",
       "      <th>License Certificate Number</th>\n",
       "      <th>License Original Issue Date</th>\n",
       "      <th>License Effective Date</th>\n",
       "      <th>License Expiration Date</th>\n",
       "      <th>Latitude</th>\n",
       "      <th>Longitude</th>\n",
       "      <th>Location</th>\n",
       "    </tr>\n",
       "  </thead>\n",
       "  <tbody>\n",
       "    <tr>\n",
       "      <th>216</th>\n",
       "      <td>1003823</td>\n",
       "      <td>ON-PREMISES LIQUOR</td>\n",
       "      <td>252.0</td>\n",
       "      <td>OP</td>\n",
       "      <td>New York City</td>\n",
       "      <td>1</td>\n",
       "      <td>BRONX</td>\n",
       "      <td>KENNETH MCPARTLAN TAVERN CORP</td>\n",
       "      <td>GLEN ROY TAVERN</td>\n",
       "      <td>145 E 149TH STREET</td>\n",
       "      <td>...</td>\n",
       "      <td>BRONX</td>\n",
       "      <td>NY</td>\n",
       "      <td>10451</td>\n",
       "      <td>871883</td>\n",
       "      <td>06/04/1979</td>\n",
       "      <td>2017-03-01</td>\n",
       "      <td>02/28/2019</td>\n",
       "      <td>40.818850</td>\n",
       "      <td>-73.928023</td>\n",
       "      <td>(40.8188496305, -73.9280225703)</td>\n",
       "    </tr>\n",
       "    <tr>\n",
       "      <th>218</th>\n",
       "      <td>1003854</td>\n",
       "      <td>ON-PREMISES LIQUOR</td>\n",
       "      <td>252.0</td>\n",
       "      <td>OP</td>\n",
       "      <td>New York City</td>\n",
       "      <td>1</td>\n",
       "      <td>BRONX</td>\n",
       "      <td>STEBAR FOOD CORP</td>\n",
       "      <td>WALNUT BUSSTOP COFFEE SHOP</td>\n",
       "      <td>881 883 E 134TH STREET</td>\n",
       "      <td>...</td>\n",
       "      <td>BRONX</td>\n",
       "      <td>NY</td>\n",
       "      <td>10454</td>\n",
       "      <td>871647</td>\n",
       "      <td>NaN</td>\n",
       "      <td>2017-03-01</td>\n",
       "      <td>02/28/2019</td>\n",
       "      <td>40.800418</td>\n",
       "      <td>-73.910742</td>\n",
       "      <td>(40.8004178483, -73.9107424039)</td>\n",
       "    </tr>\n",
       "    <tr>\n",
       "      <th>219</th>\n",
       "      <td>1003874</td>\n",
       "      <td>ON-PREMISES LIQUOR</td>\n",
       "      <td>252.0</td>\n",
       "      <td>OP</td>\n",
       "      <td>New York City</td>\n",
       "      <td>1</td>\n",
       "      <td>BRONX</td>\n",
       "      <td>LA LECHONERA CRIOLLA INC</td>\n",
       "      <td>NaN</td>\n",
       "      <td>1709 WEBSTER AVE</td>\n",
       "      <td>...</td>\n",
       "      <td>BRONX</td>\n",
       "      <td>NY</td>\n",
       "      <td>10457</td>\n",
       "      <td>876365</td>\n",
       "      <td>12/07/2011</td>\n",
       "      <td>2017-07-03</td>\n",
       "      <td>05/31/2019</td>\n",
       "      <td>40.843393</td>\n",
       "      <td>-73.903519</td>\n",
       "      <td>(40.8433926669, -73.9035191554)</td>\n",
       "    </tr>\n",
       "    <tr>\n",
       "      <th>220</th>\n",
       "      <td>1003876</td>\n",
       "      <td>ON-PREMISES LIQUOR</td>\n",
       "      <td>252.0</td>\n",
       "      <td>OP</td>\n",
       "      <td>New York City</td>\n",
       "      <td>1</td>\n",
       "      <td>BRONX</td>\n",
       "      <td>EL DIAMANTE RESTAURANT CORP</td>\n",
       "      <td>EL DIAMANTE RESTAURANT</td>\n",
       "      <td>4371 3RD AVE</td>\n",
       "      <td>...</td>\n",
       "      <td>BRONX</td>\n",
       "      <td>NY</td>\n",
       "      <td>10457</td>\n",
       "      <td>877658</td>\n",
       "      <td>01/17/2013</td>\n",
       "      <td>2017-08-01</td>\n",
       "      <td>07/31/2019</td>\n",
       "      <td>40.850702</td>\n",
       "      <td>-73.894171</td>\n",
       "      <td>(40.8507021199, -73.8941708951)</td>\n",
       "    </tr>\n",
       "    <tr>\n",
       "      <th>221</th>\n",
       "      <td>1003885</td>\n",
       "      <td>ON-PREMISES LIQUOR</td>\n",
       "      <td>252.0</td>\n",
       "      <td>OP</td>\n",
       "      <td>New York City</td>\n",
       "      <td>1</td>\n",
       "      <td>BRONX</td>\n",
       "      <td>DOMINICKS BAR &amp; RESTAURANT INC</td>\n",
       "      <td>NaN</td>\n",
       "      <td>2335 ARTHUR AVENUE</td>\n",
       "      <td>...</td>\n",
       "      <td>BRONX</td>\n",
       "      <td>NY</td>\n",
       "      <td>10458</td>\n",
       "      <td>874887</td>\n",
       "      <td>NaN</td>\n",
       "      <td>2017-06-01</td>\n",
       "      <td>05/31/2019</td>\n",
       "      <td>40.854135</td>\n",
       "      <td>-73.888850</td>\n",
       "      <td>(40.8541348889, -73.8888496394)</td>\n",
       "    </tr>\n",
       "  </tbody>\n",
       "</table>\n",
       "<p>5 rows × 21 columns</p>\n",
       "</div>"
      ],
      "text/plain": [
       "     License Serial Number   License Type Name  License Class Code  \\\n",
       "216                1003823  ON-PREMISES LIQUOR               252.0   \n",
       "218                1003854  ON-PREMISES LIQUOR               252.0   \n",
       "219                1003874  ON-PREMISES LIQUOR               252.0   \n",
       "220                1003876  ON-PREMISES LIQUOR               252.0   \n",
       "221                1003885  ON-PREMISES LIQUOR               252.0   \n",
       "\n",
       "    License Type Code Agency Zone Office Name  Agency Zone Office Number  \\\n",
       "216                OP           New York City                          1   \n",
       "218                OP           New York City                          1   \n",
       "219                OP           New York City                          1   \n",
       "220                OP           New York City                          1   \n",
       "221                OP           New York City                          1   \n",
       "\n",
       "    County Name (Licensee)                   Premises Name  \\\n",
       "216                  BRONX   KENNETH MCPARTLAN TAVERN CORP   \n",
       "218                  BRONX                STEBAR FOOD CORP   \n",
       "219                  BRONX        LA LECHONERA CRIOLLA INC   \n",
       "220                  BRONX     EL DIAMANTE RESTAURANT CORP   \n",
       "221                  BRONX  DOMINICKS BAR & RESTAURANT INC   \n",
       "\n",
       "        Doing Business As (DBA) Actual Address of Premises (Address1)  ...  \\\n",
       "216             GLEN ROY TAVERN                    145 E 149TH STREET  ...   \n",
       "218  WALNUT BUSSTOP COFFEE SHOP                881 883 E 134TH STREET  ...   \n",
       "219                         NaN                      1709 WEBSTER AVE  ...   \n",
       "220      EL DIAMANTE RESTAURANT                          4371 3RD AVE  ...   \n",
       "221                         NaN                    2335 ARTHUR AVENUE  ...   \n",
       "\n",
       "      City State    Zip License Certificate Number  \\\n",
       "216  BRONX    NY  10451                     871883   \n",
       "218  BRONX    NY  10454                     871647   \n",
       "219  BRONX    NY  10457                     876365   \n",
       "220  BRONX    NY  10457                     877658   \n",
       "221  BRONX    NY  10458                     874887   \n",
       "\n",
       "     License Original Issue Date License Effective Date  \\\n",
       "216                   06/04/1979             2017-03-01   \n",
       "218                          NaN             2017-03-01   \n",
       "219                   12/07/2011             2017-07-03   \n",
       "220                   01/17/2013             2017-08-01   \n",
       "221                          NaN             2017-06-01   \n",
       "\n",
       "    License Expiration Date   Latitude  Longitude  \\\n",
       "216              02/28/2019  40.818850 -73.928023   \n",
       "218              02/28/2019  40.800418 -73.910742   \n",
       "219              05/31/2019  40.843393 -73.903519   \n",
       "220              07/31/2019  40.850702 -73.894171   \n",
       "221              05/31/2019  40.854135 -73.888850   \n",
       "\n",
       "                            Location  \n",
       "216  (40.8188496305, -73.9280225703)  \n",
       "218  (40.8004178483, -73.9107424039)  \n",
       "219  (40.8433926669, -73.9035191554)  \n",
       "220  (40.8507021199, -73.8941708951)  \n",
       "221  (40.8541348889, -73.8888496394)  \n",
       "\n",
       "[5 rows x 21 columns]"
      ]
     },
     "execution_count": 8,
     "metadata": {},
     "output_type": "execute_result"
    }
   ],
   "source": [
    "liquor_df.head()"
   ]
  },
  {
   "cell_type": "code",
   "execution_count": 9,
   "id": "bdd9edfe",
   "metadata": {
    "execution": {
     "iopub.execute_input": "2022-09-07T13:25:37.064509Z",
     "iopub.status.busy": "2022-09-07T13:25:37.063308Z",
     "iopub.status.idle": "2022-09-07T13:34:07.354952Z",
     "shell.execute_reply": "2022-09-07T13:34:07.353466Z"
    },
    "papermill": {
     "duration": 510.300274,
     "end_time": "2022-09-07T13:34:07.358123",
     "exception": false,
     "start_time": "2022-09-07T13:25:37.057849",
     "status": "completed"
    },
    "tags": []
   },
   "outputs": [
    {
     "name": "stderr",
     "output_type": "stream",
     "text": [
      "100%|██████████| 5113/5113 [08:30<00:00, 10.03it/s]\n"
     ]
    }
   ],
   "source": [
    "same = 0\n",
    "diff = 0\n",
    "left_skew = 0\n",
    "equal = 0\n",
    "right_skew = 0\n",
    "\n",
    "cum_prev_dist = []\n",
    "cum_after_dist = []\n",
    "Period = 60\n",
    "with tqdm(total=len(list(liquor_df.iterrows()))) as pbar:\n",
    "    for idx, row in liquor_df.iterrows():\n",
    "        tup = eval(row['Location'])\n",
    "        \n",
    "        crime_loc_df = get_within_km(tup, crime_df)\n",
    "        \n",
    "        license_time = pd.to_datetime(row['License Effective Date'])\n",
    "        prev = license_time.to_pydatetime() + timedelta(days=-Period)\n",
    "        \n",
    "        prev_dist = []\n",
    "        after_dist = []\n",
    "        \n",
    "        for date in pd.date_range(prev, periods=Period):\n",
    "            q_date = date.strftime(\"%m/%d/%Y\")\n",
    "            prev_dist.append(len(crime_loc_df[crime_loc_df['CMPLNT_FR_DT'] == q_date]))\n",
    "        cum_prev_dist.append(prev_dist)\n",
    "        \n",
    "        for date in pd.date_range(license_time, periods=Period):\n",
    "            q_date = date.strftime(\"%m/%d/%Y\")\n",
    "            after_dist.append(len(crime_loc_df[crime_loc_df['CMPLNT_FR_DT'] == q_date]))\n",
    "            \n",
    "        cum_after_dist.append(after_dist)\n",
    "        # N = 60, statistic= 0.1753\n",
    "        # N = 30, statistic= 0.24170\n",
    "        if stats.ks_2samp(prev_dist, after_dist)[0] > 0.1753: # 95% CI, 30 days of samples. Reject Null Hypothesis (to be the same)\n",
    "            prev_skew = sum(prev_dist)\n",
    "            after_skew = sum(after_dist)      \n",
    "            if after_skew > prev_skew:\n",
    "                right_skew += 1\n",
    "            elif after_skew < prev_skew:\n",
    "                left_skew += 1\n",
    "            else:\n",
    "                equal += 1\n",
    "            diff += 1\n",
    "        else:\n",
    "            same += 1\n",
    "        pbar.update(1)"
   ]
  },
  {
   "cell_type": "code",
   "execution_count": 10,
   "id": "a7d20bec",
   "metadata": {
    "execution": {
     "iopub.execute_input": "2022-09-07T13:34:07.729448Z",
     "iopub.status.busy": "2022-09-07T13:34:07.728976Z",
     "iopub.status.idle": "2022-09-07T13:34:08.038120Z",
     "shell.execute_reply": "2022-09-07T13:34:08.036910Z"
    },
    "papermill": {
     "duration": 0.498532,
     "end_time": "2022-09-07T13:34:08.041196",
     "exception": false,
     "start_time": "2022-09-07T13:34:07.542664",
     "status": "completed"
    },
    "tags": []
   },
   "outputs": [
    {
     "data": {
      "image/png": "[encoded data removed]",
      "text/plain": [
       "<Figure size 432x288 with 1 Axes>"
      ]
     },
     "metadata": {
      "needs_background": "light"
     },
     "output_type": "display_data"
    },
    {
     "name": "stdout",
     "output_type": "stream",
     "text": [
      "Number of Results with same distribution: 3375\n",
      "Number of Results with hike: 1738\n",
      "Crime remained same for diff distributions: 0\n",
      "Crime decreased: 669\n",
      "Crime increase: 1069\n"
     ]
    }
   ],
   "source": [
    "cum_prev_dist = np.array(cum_prev_dist)\n",
    "cum_prev_dist = np.array(cum_prev_dist).sum(axis=0)\n",
    "\n",
    "plt.plot(cum_prev_dist)\n",
    "plt.ylabel('Crime Before and After opening')\n",
    "cum_after_dist = np.array(cum_after_dist)\n",
    "cum_after_dist = np.array(cum_after_dist).sum(axis=0)\n",
    "plt.ylim(min(np.amin(cum_after_dist), np.amin(cum_prev_dist)), max(np.amax(cum_after_dist), np.amax(cum_prev_dist)))\n",
    "\n",
    "plt.plot(cum_after_dist)\n",
    "plt.show()\n",
    "print(\"Number of Results with same distribution: \" + str(same))\n",
    "print(\"Number of Results with hike: \" + str(diff))\n",
    "\n",
    "print(\"Crime remained same for diff distributions: \" + str(equal))\n",
    "print(\"Crime decreased: \" + str(left_skew))\n",
    "print(\"Crime increase: \" + str(right_skew))"
   ]
  },
  {
   "cell_type": "code",
   "execution_count": null,
   "id": "4341d742",
   "metadata": {
    "papermill": {
     "duration": 0.184218,
     "end_time": "2022-09-07T13:34:08.409381",
     "exception": false,
     "start_time": "2022-09-07T13:34:08.225163",
     "status": "completed"
    },
    "tags": []
   },
   "outputs": [],
   "source": []
  }
 ],
 "metadata": {
  "kernelspec": {
   "display_name": "Python 3",
   "language": "python",
   "name": "python3"
  },
  "language_info": {
   "codemirror_mode": {
    "name": "ipython",
    "version": 3
   },
   "file_extension": ".py",
   "mimetype": "text/x-python",
   "name": "python",
   "nbconvert_exporter": "python",
   "pygments_lexer": "ipython3",
   "version": "3.7.12"
  },
  "papermill": {
   "default_parameters": {},
   "duration": 599.606111,
   "end_time": "2022-09-07T13:34:09.621713",
   "environment_variables": {},
   "exception": null,
   "input_path": "__notebook__.ipynb",
   "output_path": "__notebook__.ipynb",
   "parameters": {},
   "start_time": "2022-09-07T13:24:10.015602",
   "version": "2.3.4"
  }
 },
 "nbformat": 4,
 "nbformat_minor": 5
}
